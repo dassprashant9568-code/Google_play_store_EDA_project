{
 "cells": [
  {
   "cell_type": "code",
   "execution_count": 1,
   "id": "2606fe54",
   "metadata": {
    "_cell_guid": "b1076dfc-b9ad-4769-8c92-a6c4dae69d19",
    "_uuid": "8f2839f25d086af736a60e9eeb907d3b93b6e0e5",
    "execution": {
     "iopub.execute_input": "2025-09-25T08:48:44.034081Z",
     "iopub.status.busy": "2025-09-25T08:48:44.033785Z",
     "iopub.status.idle": "2025-09-25T08:48:47.826247Z",
     "shell.execute_reply": "2025-09-25T08:48:47.825554Z"
    },
    "papermill": {
     "duration": 3.804594,
     "end_time": "2025-09-25T08:48:47.827973",
     "exception": false,
     "start_time": "2025-09-25T08:48:44.023379",
     "status": "completed"
    },
    "tags": []
   },
   "outputs": [],
   "source": [
    "import pandas as pd\n",
    "import numpy as np\n",
    "import matplotlib.pyplot as plt\n",
    "import seaborn as sns\n",
    "sns.set(style = \"whitegrid\")"
   ]
  },
  {
   "cell_type": "code",
   "execution_count": 2,
   "id": "c08fe6ff",
   "metadata": {
    "execution": {
     "iopub.execute_input": "2025-09-25T08:48:47.845439Z",
     "iopub.status.busy": "2025-09-25T08:48:47.845044Z",
     "iopub.status.idle": "2025-09-25T08:48:47.947396Z",
     "shell.execute_reply": "2025-09-25T08:48:47.946325Z"
    },
    "papermill": {
     "duration": 0.112919,
     "end_time": "2025-09-25T08:48:47.949289",
     "exception": false,
     "start_time": "2025-09-25T08:48:47.836370",
     "status": "completed"
    },
    "tags": []
   },
   "outputs": [
    {
     "data": {
      "text/html": [
       "<div>\n",
       "<style scoped>\n",
       "    .dataframe tbody tr th:only-of-type {\n",
       "        vertical-align: middle;\n",
       "    }\n",
       "\n",
       "    .dataframe tbody tr th {\n",
       "        vertical-align: top;\n",
       "    }\n",
       "\n",
       "    .dataframe thead th {\n",
       "        text-align: right;\n",
       "    }\n",
       "</style>\n",
       "<table border=\"1\" class=\"dataframe\">\n",
       "  <thead>\n",
       "    <tr style=\"text-align: right;\">\n",
       "      <th></th>\n",
       "      <th>App</th>\n",
       "      <th>Category</th>\n",
       "      <th>Rating</th>\n",
       "      <th>Reviews</th>\n",
       "      <th>Size</th>\n",
       "      <th>Installs</th>\n",
       "      <th>Type</th>\n",
       "      <th>Price</th>\n",
       "      <th>Content Rating</th>\n",
       "      <th>Genres</th>\n",
       "      <th>Last Updated</th>\n",
       "      <th>Current Ver</th>\n",
       "      <th>Android Ver</th>\n",
       "    </tr>\n",
       "  </thead>\n",
       "  <tbody>\n",
       "    <tr>\n",
       "      <th>0</th>\n",
       "      <td>Photo Editor &amp; Candy Camera &amp; Grid &amp; ScrapBook</td>\n",
       "      <td>ART_AND_DESIGN</td>\n",
       "      <td>4.1</td>\n",
       "      <td>159</td>\n",
       "      <td>19M</td>\n",
       "      <td>10,000+</td>\n",
       "      <td>Free</td>\n",
       "      <td>0</td>\n",
       "      <td>Everyone</td>\n",
       "      <td>Art &amp; Design</td>\n",
       "      <td>January 7, 2018</td>\n",
       "      <td>1.0.0</td>\n",
       "      <td>4.0.3 and up</td>\n",
       "    </tr>\n",
       "  </tbody>\n",
       "</table>\n",
       "</div>"
      ],
      "text/plain": [
       "                                              App        Category  Rating  \\\n",
       "0  Photo Editor & Candy Camera & Grid & ScrapBook  ART_AND_DESIGN     4.1   \n",
       "\n",
       "  Reviews Size Installs  Type Price Content Rating        Genres  \\\n",
       "0     159  19M  10,000+  Free     0       Everyone  Art & Design   \n",
       "\n",
       "      Last Updated Current Ver   Android Ver  \n",
       "0  January 7, 2018       1.0.0  4.0.3 and up  "
      ]
     },
     "execution_count": 2,
     "metadata": {},
     "output_type": "execute_result"
    }
   ],
   "source": [
    "df = pd.read_csv(\"/kaggle/input/google-play-store-apps/googleplaystore.csv\")\n",
    "df.head(1)\n"
   ]
  },
  {
   "cell_type": "code",
   "execution_count": 3,
   "id": "2fa8c74e",
   "metadata": {
    "execution": {
     "iopub.execute_input": "2025-09-25T08:48:47.968411Z",
     "iopub.status.busy": "2025-09-25T08:48:47.968100Z",
     "iopub.status.idle": "2025-09-25T08:48:48.000712Z",
     "shell.execute_reply": "2025-09-25T08:48:47.999525Z"
    },
    "papermill": {
     "duration": 0.044153,
     "end_time": "2025-09-25T08:48:48.002201",
     "exception": false,
     "start_time": "2025-09-25T08:48:47.958048",
     "status": "completed"
    },
    "tags": []
   },
   "outputs": [
    {
     "name": "stdout",
     "output_type": "stream",
     "text": [
      "<class 'pandas.core.frame.DataFrame'>\n",
      "RangeIndex: 10841 entries, 0 to 10840\n",
      "Data columns (total 13 columns):\n",
      " #   Column          Non-Null Count  Dtype  \n",
      "---  ------          --------------  -----  \n",
      " 0   App             10841 non-null  object \n",
      " 1   Category        10841 non-null  object \n",
      " 2   Rating          9367 non-null   float64\n",
      " 3   Reviews         10841 non-null  object \n",
      " 4   Size            10841 non-null  object \n",
      " 5   Installs        10841 non-null  object \n",
      " 6   Type            10840 non-null  object \n",
      " 7   Price           10841 non-null  object \n",
      " 8   Content Rating  10840 non-null  object \n",
      " 9   Genres          10841 non-null  object \n",
      " 10  Last Updated    10841 non-null  object \n",
      " 11  Current Ver     10833 non-null  object \n",
      " 12  Android Ver     10838 non-null  object \n",
      "dtypes: float64(1), object(12)\n",
      "memory usage: 1.1+ MB\n"
     ]
    }
   ],
   "source": [
    "df.info() #checking for null values "
   ]
  },
  {
   "cell_type": "markdown",
   "id": "38610d04",
   "metadata": {
    "papermill": {
     "duration": 0.008084,
     "end_time": "2025-09-25T08:48:48.018549",
     "exception": false,
     "start_time": "2025-09-25T08:48:48.010465",
     "status": "completed"
    },
    "tags": []
   },
   "source": [
    "**Step-A** **Finding missing value & duplicates**"
   ]
  },
  {
   "cell_type": "code",
   "execution_count": 4,
   "id": "d0df4859",
   "metadata": {
    "execution": {
     "iopub.execute_input": "2025-09-25T08:48:48.036016Z",
     "iopub.status.busy": "2025-09-25T08:48:48.035736Z",
     "iopub.status.idle": "2025-09-25T08:48:48.057450Z",
     "shell.execute_reply": "2025-09-25T08:48:48.056720Z"
    },
    "papermill": {
     "duration": 0.032073,
     "end_time": "2025-09-25T08:48:48.058897",
     "exception": false,
     "start_time": "2025-09-25T08:48:48.026824",
     "status": "completed"
    },
    "tags": []
   },
   "outputs": [],
   "source": [
    "df.isna().sum()     #find the column which has null values\n",
    "#duplicated by app name (sometimes same app appears multiple times )\n",
    "df.duplicated(subset=['App']).sum() \n",
    "df[df.duplicated(subset=['App'],keep = False)].sort_values('App').head(10)\n",
    "#Dropig the duplicated rows keeping the first one only \n",
    "df = df.drop_duplicates(subset = ['App'],keep = 'first')"
   ]
  },
  {
   "cell_type": "markdown",
   "id": "31fc40b2",
   "metadata": {
    "papermill": {
     "duration": 0.007717,
     "end_time": "2025-09-25T08:48:48.074693",
     "exception": false,
     "start_time": "2025-09-25T08:48:48.066976",
     "status": "completed"
    },
    "tags": []
   },
   "source": [
    "**Step-B** **Converting columns to numeric and fixing the string**"
   ]
  },
  {
   "cell_type": "code",
   "execution_count": 5,
   "id": "b1965b51",
   "metadata": {
    "execution": {
     "iopub.execute_input": "2025-09-25T08:48:48.091419Z",
     "iopub.status.busy": "2025-09-25T08:48:48.091140Z",
     "iopub.status.idle": "2025-09-25T08:48:48.140592Z",
     "shell.execute_reply": "2025-09-25T08:48:48.139741Z"
    },
    "papermill": {
     "duration": 0.059756,
     "end_time": "2025-09-25T08:48:48.142245",
     "exception": false,
     "start_time": "2025-09-25T08:48:48.082489",
     "status": "completed"
    },
    "tags": []
   },
   "outputs": [],
   "source": [
    "# Rating and Reviews numeric\n",
    "df['Rating'] = pd.to_numeric(df['Rating'], errors='coerce')\n",
    "df['Reviews'] = pd.to_numeric(df['Reviews'], errors='coerce')\n",
    "\n",
    "# Price (remove $)\n",
    "df['Price'] = df['Price'].astype(str).str.replace(r'[$]', '', regex=True)\n",
    "df['Price'] = pd.to_numeric(df['Price'], errors='coerce').fillna(0.0)\n",
    "\n",
    "# Installs: remove commas and '+' then convert to int\n",
    "df['Installs'] = df['Installs'].astype(str).str.replace(r'[+,]', '', regex=True)\n",
    "df['Installs'] = pd.to_numeric(df['Installs'], errors='coerce').fillna(0).astype(int)\n",
    "\n",
    "# Size: convert to MB numeric (handles 'Varies with device')\n",
    "def size_to_mb(x):\n",
    "    if pd.isna(x) or x in ['Varies with device', 'NaN', '']:\n",
    "        return np.nan\n",
    "    x = str(x).strip()\n",
    "    if x.endswith('M'):\n",
    "        try: return float(x[:-1])\n",
    "        except: return np.nan\n",
    "    if x.endswith('k') or x.endswith('K'):\n",
    "        try: return float(x[:-1]) / 1024\n",
    "        except: return np.nan\n",
    "    # sometimes it's \"1,000+\"\n",
    "    return np.nan\n",
    "\n",
    "df['Size_MB'] = df['Size'].apply(size_to_mb)\n"
   ]
  },
  {
   "cell_type": "markdown",
   "id": "c67e7d09",
   "metadata": {
    "papermill": {
     "duration": 0.007661,
     "end_time": "2025-09-25T08:48:48.158122",
     "exception": false,
     "start_time": "2025-09-25T08:48:48.150461",
     "status": "completed"
    },
    "tags": []
   },
   "source": [
    "**Step-C Datetime**"
   ]
  },
  {
   "cell_type": "code",
   "execution_count": 6,
   "id": "7477f103",
   "metadata": {
    "execution": {
     "iopub.execute_input": "2025-09-25T08:48:48.174898Z",
     "iopub.status.busy": "2025-09-25T08:48:48.174572Z",
     "iopub.status.idle": "2025-09-25T08:48:48.189132Z",
     "shell.execute_reply": "2025-09-25T08:48:48.188417Z"
    },
    "papermill": {
     "duration": 0.024433,
     "end_time": "2025-09-25T08:48:48.190323",
     "exception": false,
     "start_time": "2025-09-25T08:48:48.165890",
     "status": "completed"
    },
    "tags": []
   },
   "outputs": [],
   "source": [
    "df['Last Updated'] = pd.to_datetime(df['Last Updated'],errors = 'coerce')"
   ]
  },
  {
   "cell_type": "markdown",
   "id": "604a1301",
   "metadata": {
    "papermill": {
     "duration": 0.007652,
     "end_time": "2025-09-25T08:48:48.206179",
     "exception": false,
     "start_time": "2025-09-25T08:48:48.198527",
     "status": "completed"
    },
    "tags": []
   },
   "source": [
    "**Step-D Standadize text**"
   ]
  },
  {
   "cell_type": "code",
   "execution_count": 7,
   "id": "9890337f",
   "metadata": {
    "execution": {
     "iopub.execute_input": "2025-09-25T08:48:48.223315Z",
     "iopub.status.busy": "2025-09-25T08:48:48.222695Z",
     "iopub.status.idle": "2025-09-25T08:48:48.235184Z",
     "shell.execute_reply": "2025-09-25T08:48:48.234384Z"
    },
    "papermill": {
     "duration": 0.022767,
     "end_time": "2025-09-25T08:48:48.236633",
     "exception": false,
     "start_time": "2025-09-25T08:48:48.213866",
     "status": "completed"
    },
    "tags": []
   },
   "outputs": [],
   "source": [
    "df['Category']=df['Category'].str.strip().str.upper()\n",
    "df['Genres']= df['Genres'].str.strip()\n",
    "df['type']= df['Type'].fillna('Free')"
   ]
  },
  {
   "cell_type": "markdown",
   "id": "fb92c658",
   "metadata": {
    "papermill": {
     "duration": 0.008053,
     "end_time": "2025-09-25T08:48:48.252729",
     "exception": false,
     "start_time": "2025-09-25T08:48:48.244676",
     "status": "completed"
    },
    "tags": []
   },
   "source": [
    "**Step-E Report final cleaned shape and missingness**"
   ]
  },
  {
   "cell_type": "code",
   "execution_count": 8,
   "id": "25adcac7",
   "metadata": {
    "execution": {
     "iopub.execute_input": "2025-09-25T08:48:48.270672Z",
     "iopub.status.busy": "2025-09-25T08:48:48.270343Z",
     "iopub.status.idle": "2025-09-25T08:48:48.294005Z",
     "shell.execute_reply": "2025-09-25T08:48:48.293105Z"
    },
    "papermill": {
     "duration": 0.034311,
     "end_time": "2025-09-25T08:48:48.295402",
     "exception": false,
     "start_time": "2025-09-25T08:48:48.261091",
     "status": "completed"
    },
    "tags": []
   },
   "outputs": [
    {
     "name": "stdout",
     "output_type": "stream",
     "text": [
      "<class 'pandas.core.frame.DataFrame'>\n",
      "Index: 9660 entries, 0 to 10840\n",
      "Data columns (total 15 columns):\n",
      " #   Column          Non-Null Count  Dtype         \n",
      "---  ------          --------------  -----         \n",
      " 0   App             9660 non-null   object        \n",
      " 1   Category        9660 non-null   object        \n",
      " 2   Rating          8197 non-null   float64       \n",
      " 3   Reviews         9659 non-null   float64       \n",
      " 4   Size            9660 non-null   object        \n",
      " 5   Installs        9660 non-null   int64         \n",
      " 6   Type            9659 non-null   object        \n",
      " 7   Price           9660 non-null   float64       \n",
      " 8   Content Rating  9659 non-null   object        \n",
      " 9   Genres          9660 non-null   object        \n",
      " 10  Last Updated    9659 non-null   datetime64[ns]\n",
      " 11  Current Ver     9652 non-null   object        \n",
      " 12  Android Ver     9657 non-null   object        \n",
      " 13  Size_MB         8432 non-null   float64       \n",
      " 14  type            9660 non-null   object        \n",
      "dtypes: datetime64[ns](1), float64(4), int64(1), object(9)\n",
      "memory usage: 1.2+ MB\n"
     ]
    },
    {
     "data": {
      "text/plain": [
       "Rating            0.151449\n",
       "Size_MB           0.127122\n",
       "Current Ver       0.000828\n",
       "Android Ver       0.000311\n",
       "Reviews           0.000104\n",
       "Type              0.000104\n",
       "Content Rating    0.000104\n",
       "Last Updated      0.000104\n",
       "App               0.000000\n",
       "Category          0.000000\n",
       "Size              0.000000\n",
       "Installs          0.000000\n",
       "Price             0.000000\n",
       "Genres            0.000000\n",
       "type              0.000000\n",
       "dtype: float64"
      ]
     },
     "execution_count": 8,
     "metadata": {},
     "output_type": "execute_result"
    }
   ],
   "source": [
    "df.info()\n",
    "df.isna().mean().sort_values(ascending=False)  # fraction missing"
   ]
  },
  {
   "cell_type": "markdown",
   "id": "4a09f0bf",
   "metadata": {
    "papermill": {
     "duration": 0.007712,
     "end_time": "2025-09-25T08:48:48.311611",
     "exception": false,
     "start_time": "2025-09-25T08:48:48.303899",
     "status": "completed"
    },
    "tags": []
   },
   "source": [
    "# **Basic_level_Question**"
   ]
  },
  {
   "cell_type": "markdown",
   "id": "7f3d1d52",
   "metadata": {
    "papermill": {
     "duration": 0.00779,
     "end_time": "2025-09-25T08:48:48.327220",
     "exception": false,
     "start_time": "2025-09-25T08:48:48.319430",
     "status": "completed"
    },
    "tags": []
   },
   "source": [
    "**Q1-What is the average rating**"
   ]
  },
  {
   "cell_type": "code",
   "execution_count": 9,
   "id": "5360c9d0",
   "metadata": {
    "execution": {
     "iopub.execute_input": "2025-09-25T08:48:48.404719Z",
     "iopub.status.busy": "2025-09-25T08:48:48.403804Z",
     "iopub.status.idle": "2025-09-25T08:48:48.410061Z",
     "shell.execute_reply": "2025-09-25T08:48:48.409399Z"
    },
    "papermill": {
     "duration": 0.017358,
     "end_time": "2025-09-25T08:48:48.411345",
     "exception": false,
     "start_time": "2025-09-25T08:48:48.393987",
     "status": "completed"
    },
    "tags": []
   },
   "outputs": [
    {
     "data": {
      "text/plain": [
       "4.17505184823716"
      ]
     },
     "execution_count": 9,
     "metadata": {},
     "output_type": "execute_result"
    }
   ],
   "source": [
    "avg_rating=df['Rating'].mean()\n",
    "avg_rating"
   ]
  },
  {
   "cell_type": "markdown",
   "id": "6a8208cb",
   "metadata": {
    "papermill": {
     "duration": 0.00789,
     "end_time": "2025-09-25T08:48:48.427547",
     "exception": false,
     "start_time": "2025-09-25T08:48:48.419657",
     "status": "completed"
    },
    "tags": []
   },
   "source": [
    "**Q2-How many unique categories**"
   ]
  },
  {
   "cell_type": "code",
   "execution_count": 10,
   "id": "682c619a",
   "metadata": {
    "execution": {
     "iopub.execute_input": "2025-09-25T08:48:48.445441Z",
     "iopub.status.busy": "2025-09-25T08:48:48.445145Z",
     "iopub.status.idle": "2025-09-25T08:48:48.451442Z",
     "shell.execute_reply": "2025-09-25T08:48:48.450620Z"
    },
    "papermill": {
     "duration": 0.017484,
     "end_time": "2025-09-25T08:48:48.453010",
     "exception": false,
     "start_time": "2025-09-25T08:48:48.435526",
     "status": "completed"
    },
    "tags": []
   },
   "outputs": [
    {
     "data": {
      "text/plain": [
       "34"
      ]
     },
     "execution_count": 10,
     "metadata": {},
     "output_type": "execute_result"
    }
   ],
   "source": [
    "num_categories = df['Category'].nunique()\n",
    "num_categories"
   ]
  },
  {
   "cell_type": "markdown",
   "id": "620d1910",
   "metadata": {
    "papermill": {
     "duration": 0.008464,
     "end_time": "2025-09-25T08:48:48.470385",
     "exception": false,
     "start_time": "2025-09-25T08:48:48.461921",
     "status": "completed"
    },
    "tags": []
   },
   "source": [
    "**Q3-Distribuation of app size**"
   ]
  },
  {
   "cell_type": "code",
   "execution_count": 11,
   "id": "fbeff68a",
   "metadata": {
    "execution": {
     "iopub.execute_input": "2025-09-25T08:48:48.488549Z",
     "iopub.status.busy": "2025-09-25T08:48:48.488249Z",
     "iopub.status.idle": "2025-09-25T08:48:49.023957Z",
     "shell.execute_reply": "2025-09-25T08:48:49.023062Z"
    },
    "papermill": {
     "duration": 0.546688,
     "end_time": "2025-09-25T08:48:49.025659",
     "exception": false,
     "start_time": "2025-09-25T08:48:48.478971",
     "status": "completed"
    },
    "tags": []
   },
   "outputs": [
    {
     "data": {
      "text/plain": [
       "<function matplotlib.pyplot.show(close=None, block=None)>"
      ]
     },
     "execution_count": 11,
     "metadata": {},
     "output_type": "execute_result"
    },
    {
     "data": {
      "image/png": "[encoded data removed]",
      "text/plain": [
       "<Figure size 800x400 with 1 Axes>"
      ]
     },
     "metadata": {},
     "output_type": "display_data"
    }
   ],
   "source": [
    "plt.figure(figsize = (8,4))\n",
    "plt.hist(df[\"Size_MB\"].dropna(),bins=60)\n",
    "plt.xlabel('App size (MB)')\n",
    "plt.ylabel('Count')\n",
    "plt.title('Distribuation of app size')\n",
    "plt.xlim(0,200)         #Zoom to see common sizes\n",
    "plt.show"
   ]
  },
  {
   "cell_type": "markdown",
   "id": "d1402ae8",
   "metadata": {
    "papermill": {
     "duration": 0.009471,
     "end_time": "2025-09-25T08:48:49.044999",
     "exception": false,
     "start_time": "2025-09-25T08:48:49.035528",
     "status": "completed"
    },
    "tags": []
   },
   "source": [
    "**Q3-Free Vs Paid Count**"
   ]
  },
  {
   "cell_type": "code",
   "execution_count": 12,
   "id": "259ecf01",
   "metadata": {
    "execution": {
     "iopub.execute_input": "2025-09-25T08:48:49.063839Z",
     "iopub.status.busy": "2025-09-25T08:48:49.063516Z",
     "iopub.status.idle": "2025-09-25T08:48:49.071354Z",
     "shell.execute_reply": "2025-09-25T08:48:49.070484Z"
    },
    "papermill": {
     "duration": 0.019137,
     "end_time": "2025-09-25T08:48:49.072855",
     "exception": false,
     "start_time": "2025-09-25T08:48:49.053718",
     "status": "completed"
    },
    "tags": []
   },
   "outputs": [
    {
     "data": {
      "text/plain": [
       "Type\n",
       "Free    8902\n",
       "Paid     756\n",
       "0          1\n",
       "Name: count, dtype: int64"
      ]
     },
     "execution_count": 12,
     "metadata": {},
     "output_type": "execute_result"
    }
   ],
   "source": [
    "df['Type'].value_counts()"
   ]
  },
  {
   "cell_type": "markdown",
   "id": "9f2ac687",
   "metadata": {
    "papermill": {
     "duration": 0.008856,
     "end_time": "2025-09-25T08:48:49.091022",
     "exception": false,
     "start_time": "2025-09-25T08:48:49.082166",
     "status": "completed"
    },
    "tags": []
   },
   "source": [
    "**Q5. Most common content rating**"
   ]
  },
  {
   "cell_type": "code",
   "execution_count": 13,
   "id": "7ba4c5ac",
   "metadata": {
    "execution": {
     "iopub.execute_input": "2025-09-25T08:48:49.111209Z",
     "iopub.status.busy": "2025-09-25T08:48:49.110658Z",
     "iopub.status.idle": "2025-09-25T08:48:49.119573Z",
     "shell.execute_reply": "2025-09-25T08:48:49.118678Z"
    },
    "papermill": {
     "duration": 0.02065,
     "end_time": "2025-09-25T08:48:49.120964",
     "exception": false,
     "start_time": "2025-09-25T08:48:49.100314",
     "status": "completed"
    },
    "tags": []
   },
   "outputs": [
    {
     "data": {
      "text/plain": [
       "Content Rating\n",
       "Everyone           7903\n",
       "Teen               1036\n",
       "Mature 17+          393\n",
       "Everyone 10+        322\n",
       "Adults only 18+       3\n",
       "Unrated               2\n",
       "Name: count, dtype: int64"
      ]
     },
     "execution_count": 13,
     "metadata": {},
     "output_type": "execute_result"
    }
   ],
   "source": [
    "df['Content Rating'].mode()[0]\n",
    "df['Content Rating'].value_counts()"
   ]
  },
  {
   "cell_type": "markdown",
   "id": "b220576e",
   "metadata": {
    "papermill": {
     "duration": 0.008675,
     "end_time": "2025-09-25T08:48:49.140602",
     "exception": false,
     "start_time": "2025-09-25T08:48:49.131927",
     "status": "completed"
    },
    "tags": []
   },
   "source": [
    "**Q6. Top 5 most installed apps**"
   ]
  },
  {
   "cell_type": "code",
   "execution_count": 14,
   "id": "3cdf1549",
   "metadata": {
    "execution": {
     "iopub.execute_input": "2025-09-25T08:48:49.160300Z",
     "iopub.status.busy": "2025-09-25T08:48:49.159181Z",
     "iopub.status.idle": "2025-09-25T08:48:49.174901Z",
     "shell.execute_reply": "2025-09-25T08:48:49.174007Z"
    },
    "papermill": {
     "duration": 0.026903,
     "end_time": "2025-09-25T08:48:49.176322",
     "exception": false,
     "start_time": "2025-09-25T08:48:49.149419",
     "status": "completed"
    },
    "tags": []
   },
   "outputs": [
    {
     "data": {
      "text/html": [
       "<div>\n",
       "<style scoped>\n",
       "    .dataframe tbody tr th:only-of-type {\n",
       "        vertical-align: middle;\n",
       "    }\n",
       "\n",
       "    .dataframe tbody tr th {\n",
       "        vertical-align: top;\n",
       "    }\n",
       "\n",
       "    .dataframe thead th {\n",
       "        text-align: right;\n",
       "    }\n",
       "</style>\n",
       "<table border=\"1\" class=\"dataframe\">\n",
       "  <thead>\n",
       "    <tr style=\"text-align: right;\">\n",
       "      <th></th>\n",
       "      <th>App</th>\n",
       "      <th>Installs</th>\n",
       "      <th>Category</th>\n",
       "      <th>Rating</th>\n",
       "      <th>Reviews</th>\n",
       "    </tr>\n",
       "  </thead>\n",
       "  <tbody>\n",
       "    <tr>\n",
       "      <th>336</th>\n",
       "      <td>WhatsApp Messenger</td>\n",
       "      <td>1000000000</td>\n",
       "      <td>COMMUNICATION</td>\n",
       "      <td>4.4</td>\n",
       "      <td>69119316.0</td>\n",
       "    </tr>\n",
       "    <tr>\n",
       "      <th>152</th>\n",
       "      <td>Google Play Books</td>\n",
       "      <td>1000000000</td>\n",
       "      <td>BOOKS_AND_REFERENCE</td>\n",
       "      <td>3.9</td>\n",
       "      <td>1433233.0</td>\n",
       "    </tr>\n",
       "    <tr>\n",
       "      <th>1654</th>\n",
       "      <td>Subway Surfers</td>\n",
       "      <td>1000000000</td>\n",
       "      <td>GAME</td>\n",
       "      <td>4.5</td>\n",
       "      <td>27722264.0</td>\n",
       "    </tr>\n",
       "    <tr>\n",
       "      <th>3117</th>\n",
       "      <td>Maps - Navigate &amp; Explore</td>\n",
       "      <td>1000000000</td>\n",
       "      <td>TRAVEL_AND_LOCAL</td>\n",
       "      <td>4.3</td>\n",
       "      <td>9235155.0</td>\n",
       "    </tr>\n",
       "    <tr>\n",
       "      <th>340</th>\n",
       "      <td>Gmail</td>\n",
       "      <td>1000000000</td>\n",
       "      <td>COMMUNICATION</td>\n",
       "      <td>4.3</td>\n",
       "      <td>4604324.0</td>\n",
       "    </tr>\n",
       "  </tbody>\n",
       "</table>\n",
       "</div>"
      ],
      "text/plain": [
       "                            App    Installs             Category  Rating  \\\n",
       "336          WhatsApp Messenger  1000000000        COMMUNICATION     4.4   \n",
       "152           Google Play Books  1000000000  BOOKS_AND_REFERENCE     3.9   \n",
       "1654             Subway Surfers  1000000000                 GAME     4.5   \n",
       "3117  Maps - Navigate & Explore  1000000000     TRAVEL_AND_LOCAL     4.3   \n",
       "340                       Gmail  1000000000        COMMUNICATION     4.3   \n",
       "\n",
       "         Reviews  \n",
       "336   69119316.0  \n",
       "152    1433233.0  \n",
       "1654  27722264.0  \n",
       "3117   9235155.0  \n",
       "340    4604324.0  "
      ]
     },
     "execution_count": 14,
     "metadata": {},
     "output_type": "execute_result"
    }
   ],
   "source": [
    "df.sort_values('Installs',ascending = False).head(5)[['App','Installs','Category','Rating','Reviews']]"
   ]
  },
  {
   "cell_type": "markdown",
   "id": "5e51b96d",
   "metadata": {
    "papermill": {
     "duration": 0.009248,
     "end_time": "2025-09-25T08:48:49.195062",
     "exception": false,
     "start_time": "2025-09-25T08:48:49.185814",
     "status": "completed"
    },
    "tags": []
   },
   "source": [
    "**Q7. How many apps have rating >= 4.0?**"
   ]
  },
  {
   "cell_type": "code",
   "execution_count": 15,
   "id": "0403fafe",
   "metadata": {
    "execution": {
     "iopub.execute_input": "2025-09-25T08:48:49.214569Z",
     "iopub.status.busy": "2025-09-25T08:48:49.214250Z",
     "iopub.status.idle": "2025-09-25T08:48:49.221316Z",
     "shell.execute_reply": "2025-09-25T08:48:49.220511Z"
    },
    "papermill": {
     "duration": 0.018477,
     "end_time": "2025-09-25T08:48:49.222658",
     "exception": false,
     "start_time": "2025-09-25T08:48:49.204181",
     "status": "completed"
    },
    "tags": []
   },
   "outputs": [
    {
     "name": "stderr",
     "output_type": "stream",
     "text": [
      "/usr/local/lib/python3.11/dist-packages/pandas/core/computation/expressions.py:73: RuntimeWarning: invalid value encountered in greater_equal\n",
      "  return op(a, b)\n"
     ]
    },
    {
     "data": {
      "text/plain": [
       "6287"
      ]
     },
     "execution_count": 15,
     "metadata": {},
     "output_type": "execute_result"
    }
   ],
   "source": [
    "(df['Rating']>=4.0).sum()"
   ]
  },
  {
   "cell_type": "markdown",
   "id": "f44f38ec",
   "metadata": {
    "papermill": {
     "duration": 0.009157,
     "end_time": "2025-09-25T08:48:49.241291",
     "exception": false,
     "start_time": "2025-09-25T08:48:49.232134",
     "status": "completed"
    },
    "tags": []
   },
   "source": [
    "**Q8. Avg #reviews for free vs paid apps**"
   ]
  },
  {
   "cell_type": "code",
   "execution_count": 16,
   "id": "dc6a66e8",
   "metadata": {
    "execution": {
     "iopub.execute_input": "2025-09-25T08:48:49.261809Z",
     "iopub.status.busy": "2025-09-25T08:48:49.261110Z",
     "iopub.status.idle": "2025-09-25T08:48:49.274397Z",
     "shell.execute_reply": "2025-09-25T08:48:49.273424Z"
    },
    "papermill": {
     "duration": 0.024878,
     "end_time": "2025-09-25T08:48:49.275735",
     "exception": false,
     "start_time": "2025-09-25T08:48:49.250857",
     "status": "completed"
    },
    "tags": []
   },
   "outputs": [
    {
     "name": "stderr",
     "output_type": "stream",
     "text": [
      "/usr/local/lib/python3.11/dist-packages/pandas/io/formats/format.py:1458: RuntimeWarning: invalid value encountered in greater\n",
      "  has_large_values = (abs_vals > 1e6).any()\n",
      "/usr/local/lib/python3.11/dist-packages/pandas/io/formats/format.py:1459: RuntimeWarning: invalid value encountered in less\n",
      "  has_small_values = ((abs_vals < 10 ** (-self.digits)) & (abs_vals > 0)).any()\n",
      "/usr/local/lib/python3.11/dist-packages/pandas/io/formats/format.py:1459: RuntimeWarning: invalid value encountered in greater\n",
      "  has_small_values = ((abs_vals < 10 ** (-self.digits)) & (abs_vals > 0)).any()\n"
     ]
    },
    {
     "data": {
      "text/html": [
       "<div>\n",
       "<style scoped>\n",
       "    .dataframe tbody tr th:only-of-type {\n",
       "        vertical-align: middle;\n",
       "    }\n",
       "\n",
       "    .dataframe tbody tr th {\n",
       "        vertical-align: top;\n",
       "    }\n",
       "\n",
       "    .dataframe thead th {\n",
       "        text-align: right;\n",
       "    }\n",
       "</style>\n",
       "<table border=\"1\" class=\"dataframe\">\n",
       "  <thead>\n",
       "    <tr style=\"text-align: right;\">\n",
       "      <th></th>\n",
       "      <th>Type</th>\n",
       "      <th>Reviews</th>\n",
       "    </tr>\n",
       "  </thead>\n",
       "  <tbody>\n",
       "    <tr>\n",
       "      <th>0</th>\n",
       "      <td>0</td>\n",
       "      <td>NaN</td>\n",
       "    </tr>\n",
       "    <tr>\n",
       "      <th>1</th>\n",
       "      <td>Free</td>\n",
       "      <td>234270.002134</td>\n",
       "    </tr>\n",
       "    <tr>\n",
       "      <th>2</th>\n",
       "      <td>Paid</td>\n",
       "      <td>8724.887566</td>\n",
       "    </tr>\n",
       "  </tbody>\n",
       "</table>\n",
       "</div>"
      ],
      "text/plain": [
       "   Type        Reviews\n",
       "0     0            NaN\n",
       "1  Free  234270.002134\n",
       "2  Paid    8724.887566"
      ]
     },
     "execution_count": 16,
     "metadata": {},
     "output_type": "execute_result"
    }
   ],
   "source": [
    "df.groupby('Type')['Reviews'].mean().reset_index()"
   ]
  },
  {
   "cell_type": "markdown",
   "id": "b877395a",
   "metadata": {
    "papermill": {
     "duration": 0.009087,
     "end_time": "2025-09-25T08:48:49.294328",
     "exception": false,
     "start_time": "2025-09-25T08:48:49.285241",
     "status": "completed"
    },
    "tags": []
   },
   "source": [
    "**Q9. Avg app size per category**"
   ]
  },
  {
   "cell_type": "code",
   "execution_count": 17,
   "id": "fd0005c7",
   "metadata": {
    "execution": {
     "iopub.execute_input": "2025-09-25T08:48:49.314426Z",
     "iopub.status.busy": "2025-09-25T08:48:49.314126Z",
     "iopub.status.idle": "2025-09-25T08:48:49.325505Z",
     "shell.execute_reply": "2025-09-25T08:48:49.324651Z"
    },
    "papermill": {
     "duration": 0.023211,
     "end_time": "2025-09-25T08:48:49.326776",
     "exception": false,
     "start_time": "2025-09-25T08:48:49.303565",
     "status": "completed"
    },
    "tags": []
   },
   "outputs": [
    {
     "data": {
      "text/html": [
       "<div>\n",
       "<style scoped>\n",
       "    .dataframe tbody tr th:only-of-type {\n",
       "        vertical-align: middle;\n",
       "    }\n",
       "\n",
       "    .dataframe tbody tr th {\n",
       "        vertical-align: top;\n",
       "    }\n",
       "\n",
       "    .dataframe thead th {\n",
       "        text-align: right;\n",
       "    }\n",
       "</style>\n",
       "<table border=\"1\" class=\"dataframe\">\n",
       "  <thead>\n",
       "    <tr style=\"text-align: right;\">\n",
       "      <th></th>\n",
       "      <th>Category</th>\n",
       "      <th>Size_MB</th>\n",
       "    </tr>\n",
       "  </thead>\n",
       "  <tbody>\n",
       "    <tr>\n",
       "      <th>0</th>\n",
       "      <td>GAME</td>\n",
       "      <td>41.866570</td>\n",
       "    </tr>\n",
       "    <tr>\n",
       "      <th>1</th>\n",
       "      <td>FAMILY</td>\n",
       "      <td>27.187747</td>\n",
       "    </tr>\n",
       "    <tr>\n",
       "      <th>2</th>\n",
       "      <td>TRAVEL_AND_LOCAL</td>\n",
       "      <td>24.204375</td>\n",
       "    </tr>\n",
       "    <tr>\n",
       "      <th>3</th>\n",
       "      <td>SPORTS</td>\n",
       "      <td>24.058153</td>\n",
       "    </tr>\n",
       "    <tr>\n",
       "      <th>4</th>\n",
       "      <td>ENTERTAINMENT</td>\n",
       "      <td>23.043750</td>\n",
       "    </tr>\n",
       "  </tbody>\n",
       "</table>\n",
       "</div>"
      ],
      "text/plain": [
       "           Category    Size_MB\n",
       "0              GAME  41.866570\n",
       "1            FAMILY  27.187747\n",
       "2  TRAVEL_AND_LOCAL  24.204375\n",
       "3            SPORTS  24.058153\n",
       "4     ENTERTAINMENT  23.043750"
      ]
     },
     "execution_count": 17,
     "metadata": {},
     "output_type": "execute_result"
    }
   ],
   "source": [
    "df.groupby(\"Category\")['Size_MB'].mean().sort_values(ascending=False).reset_index().head()"
   ]
  },
  {
   "cell_type": "markdown",
   "id": "67705980",
   "metadata": {
    "papermill": {
     "duration": 0.009764,
     "end_time": "2025-09-25T08:48:49.346572",
     "exception": false,
     "start_time": "2025-09-25T08:48:49.336808",
     "status": "completed"
    },
    "tags": []
   },
   "source": [
    "**Q10. How many apps were last updated in 2018?**"
   ]
  },
  {
   "cell_type": "code",
   "execution_count": 18,
   "id": "c688eb7f",
   "metadata": {
    "execution": {
     "iopub.execute_input": "2025-09-25T08:48:49.367236Z",
     "iopub.status.busy": "2025-09-25T08:48:49.366914Z",
     "iopub.status.idle": "2025-09-25T08:48:49.375548Z",
     "shell.execute_reply": "2025-09-25T08:48:49.374751Z"
    },
    "papermill": {
     "duration": 0.020565,
     "end_time": "2025-09-25T08:48:49.376984",
     "exception": false,
     "start_time": "2025-09-25T08:48:49.356419",
     "status": "completed"
    },
    "tags": []
   },
   "outputs": [
    {
     "data": {
      "text/plain": [
       "6284"
      ]
     },
     "execution_count": 18,
     "metadata": {},
     "output_type": "execute_result"
    }
   ],
   "source": [
    "(df[df['Last Updated'].dt.year == 2018]).shape[0]\n",
    "\n"
   ]
  },
  {
   "cell_type": "markdown",
   "id": "74a9b739",
   "metadata": {
    "papermill": {
     "duration": 0.009524,
     "end_time": "2025-09-25T08:48:49.396322",
     "exception": false,
     "start_time": "2025-09-25T08:48:49.386798",
     "status": "completed"
    },
    "tags": []
   },
   "source": [
    "# **Medium_level_question**"
   ]
  },
  {
   "cell_type": "markdown",
   "id": "2021d4d9",
   "metadata": {
    "papermill": {
     "duration": 0.00955,
     "end_time": "2025-09-25T08:48:49.415999",
     "exception": false,
     "start_time": "2025-09-25T08:48:49.406449",
     "status": "completed"
    },
    "tags": []
   },
   "source": [
    "**Q1. Correlation between installs and rating**"
   ]
  },
  {
   "cell_type": "code",
   "execution_count": 19,
   "id": "ad61b322",
   "metadata": {
    "execution": {
     "iopub.execute_input": "2025-09-25T08:48:49.436685Z",
     "iopub.status.busy": "2025-09-25T08:48:49.436326Z",
     "iopub.status.idle": "2025-09-25T08:48:49.456294Z",
     "shell.execute_reply": "2025-09-25T08:48:49.455409Z"
    },
    "papermill": {
     "duration": 0.03204,
     "end_time": "2025-09-25T08:48:49.457910",
     "exception": false,
     "start_time": "2025-09-25T08:48:49.425870",
     "status": "completed"
    },
    "tags": []
   },
   "outputs": [
    {
     "data": {
      "text/html": [
       "<div>\n",
       "<style scoped>\n",
       "    .dataframe tbody tr th:only-of-type {\n",
       "        vertical-align: middle;\n",
       "    }\n",
       "\n",
       "    .dataframe tbody tr th {\n",
       "        vertical-align: top;\n",
       "    }\n",
       "\n",
       "    .dataframe thead th {\n",
       "        text-align: right;\n",
       "    }\n",
       "</style>\n",
       "<table border=\"1\" class=\"dataframe\">\n",
       "  <thead>\n",
       "    <tr style=\"text-align: right;\">\n",
       "      <th></th>\n",
       "      <th>Installs</th>\n",
       "      <th>Rating</th>\n",
       "    </tr>\n",
       "  </thead>\n",
       "  <tbody>\n",
       "    <tr>\n",
       "      <th>Installs</th>\n",
       "      <td>1.000000</td>\n",
       "      <td>0.026917</td>\n",
       "    </tr>\n",
       "    <tr>\n",
       "      <th>Rating</th>\n",
       "      <td>0.026917</td>\n",
       "      <td>1.000000</td>\n",
       "    </tr>\n",
       "  </tbody>\n",
       "</table>\n",
       "</div>"
      ],
      "text/plain": [
       "          Installs    Rating\n",
       "Installs  1.000000  0.026917\n",
       "Rating    0.026917  1.000000"
      ]
     },
     "execution_count": 19,
     "metadata": {},
     "output_type": "execute_result"
    }
   ],
   "source": [
    "df[['Installs','Rating']].corr(method='pearson')\n",
    "# better: Spearman if non-linear\n",
    "df[['Installs','Rating']].corr(method='spearman')\n"
   ]
  },
  {
   "cell_type": "markdown",
   "id": "5bf8cfc1",
   "metadata": {
    "papermill": {
     "duration": 0.009844,
     "end_time": "2025-09-25T08:48:49.477915",
     "exception": false,
     "start_time": "2025-09-25T08:48:49.468071",
     "status": "completed"
    },
    "tags": []
   },
   "source": [
    "**Q2. Categories with highest avg rating**"
   ]
  },
  {
   "cell_type": "code",
   "execution_count": 20,
   "id": "71339df2",
   "metadata": {
    "collapsed": true,
    "execution": {
     "iopub.execute_input": "2025-09-25T08:48:49.499198Z",
     "iopub.status.busy": "2025-09-25T08:48:49.498424Z",
     "iopub.status.idle": "2025-09-25T08:48:49.510846Z",
     "shell.execute_reply": "2025-09-25T08:48:49.509971Z"
    },
    "jupyter": {
     "outputs_hidden": true
    },
    "papermill": {
     "duration": 0.0246,
     "end_time": "2025-09-25T08:48:49.512332",
     "exception": false,
     "start_time": "2025-09-25T08:48:49.487732",
     "status": "completed"
    },
    "tags": []
   },
   "outputs": [
    {
     "data": {
      "text/html": [
       "<div>\n",
       "<style scoped>\n",
       "    .dataframe tbody tr th:only-of-type {\n",
       "        vertical-align: middle;\n",
       "    }\n",
       "\n",
       "    .dataframe tbody tr th {\n",
       "        vertical-align: top;\n",
       "    }\n",
       "\n",
       "    .dataframe thead th {\n",
       "        text-align: right;\n",
       "    }\n",
       "</style>\n",
       "<table border=\"1\" class=\"dataframe\">\n",
       "  <thead>\n",
       "    <tr style=\"text-align: right;\">\n",
       "      <th></th>\n",
       "      <th>mean</th>\n",
       "      <th>count</th>\n",
       "    </tr>\n",
       "    <tr>\n",
       "      <th>Category</th>\n",
       "      <th></th>\n",
       "      <th></th>\n",
       "    </tr>\n",
       "  </thead>\n",
       "  <tbody>\n",
       "    <tr>\n",
       "      <th>1.9</th>\n",
       "      <td>19.000000</td>\n",
       "      <td>1</td>\n",
       "    </tr>\n",
       "    <tr>\n",
       "      <th>EVENTS</th>\n",
       "      <td>4.435556</td>\n",
       "      <td>45</td>\n",
       "    </tr>\n",
       "    <tr>\n",
       "      <th>EDUCATION</th>\n",
       "      <td>4.364407</td>\n",
       "      <td>118</td>\n",
       "    </tr>\n",
       "    <tr>\n",
       "      <th>ART_AND_DESIGN</th>\n",
       "      <td>4.357377</td>\n",
       "      <td>61</td>\n",
       "    </tr>\n",
       "    <tr>\n",
       "      <th>BOOKS_AND_REFERENCE</th>\n",
       "      <td>4.344970</td>\n",
       "      <td>169</td>\n",
       "    </tr>\n",
       "    <tr>\n",
       "      <th>PERSONALIZATION</th>\n",
       "      <td>4.332215</td>\n",
       "      <td>298</td>\n",
       "    </tr>\n",
       "    <tr>\n",
       "      <th>PARENTING</th>\n",
       "      <td>4.300000</td>\n",
       "      <td>50</td>\n",
       "    </tr>\n",
       "    <tr>\n",
       "      <th>BEAUTY</th>\n",
       "      <td>4.278571</td>\n",
       "      <td>42</td>\n",
       "    </tr>\n",
       "    <tr>\n",
       "      <th>GAME</th>\n",
       "      <td>4.247368</td>\n",
       "      <td>912</td>\n",
       "    </tr>\n",
       "    <tr>\n",
       "      <th>SOCIAL</th>\n",
       "      <td>4.247291</td>\n",
       "      <td>203</td>\n",
       "    </tr>\n",
       "    <tr>\n",
       "      <th>WEATHER</th>\n",
       "      <td>4.243056</td>\n",
       "      <td>72</td>\n",
       "    </tr>\n",
       "    <tr>\n",
       "      <th>HEALTH_AND_FITNESS</th>\n",
       "      <td>4.243033</td>\n",
       "      <td>244</td>\n",
       "    </tr>\n",
       "    <tr>\n",
       "      <th>SHOPPING</th>\n",
       "      <td>4.230000</td>\n",
       "      <td>180</td>\n",
       "    </tr>\n",
       "    <tr>\n",
       "      <th>SPORTS</th>\n",
       "      <td>4.216154</td>\n",
       "      <td>260</td>\n",
       "    </tr>\n",
       "    <tr>\n",
       "      <th>AUTO_AND_VEHICLES</th>\n",
       "      <td>4.190411</td>\n",
       "      <td>73</td>\n",
       "    </tr>\n",
       "  </tbody>\n",
       "</table>\n",
       "</div>"
      ],
      "text/plain": [
       "                          mean  count\n",
       "Category                             \n",
       "1.9                  19.000000      1\n",
       "EVENTS                4.435556     45\n",
       "EDUCATION             4.364407    118\n",
       "ART_AND_DESIGN        4.357377     61\n",
       "BOOKS_AND_REFERENCE   4.344970    169\n",
       "PERSONALIZATION       4.332215    298\n",
       "PARENTING             4.300000     50\n",
       "BEAUTY                4.278571     42\n",
       "GAME                  4.247368    912\n",
       "SOCIAL                4.247291    203\n",
       "WEATHER               4.243056     72\n",
       "HEALTH_AND_FITNESS    4.243033    244\n",
       "SHOPPING              4.230000    180\n",
       "SPORTS                4.216154    260\n",
       "AUTO_AND_VEHICLES     4.190411     73"
      ]
     },
     "execution_count": 20,
     "metadata": {},
     "output_type": "execute_result"
    }
   ],
   "source": [
    "df.groupby('Category')['Rating'].agg(['mean','count']).sort_values('mean',ascending = False).head(15)"
   ]
  },
  {
   "cell_type": "markdown",
   "id": "92df0685",
   "metadata": {
    "papermill": {
     "duration": 0.009512,
     "end_time": "2025-09-25T08:48:49.531974",
     "exception": false,
     "start_time": "2025-09-25T08:48:49.522462",
     "status": "completed"
    },
    "tags": []
   },
   "source": [
    "**Q3. Price effect on rating (paid apps)**"
   ]
  },
  {
   "cell_type": "code",
   "execution_count": 21,
   "id": "83d2f122",
   "metadata": {
    "execution": {
     "iopub.execute_input": "2025-09-25T08:48:49.553766Z",
     "iopub.status.busy": "2025-09-25T08:48:49.552540Z",
     "iopub.status.idle": "2025-09-25T08:48:49.567635Z",
     "shell.execute_reply": "2025-09-25T08:48:49.566806Z"
    },
    "papermill": {
     "duration": 0.02722,
     "end_time": "2025-09-25T08:48:49.569076",
     "exception": false,
     "start_time": "2025-09-25T08:48:49.541856",
     "status": "completed"
    },
    "tags": []
   },
   "outputs": [
    {
     "data": {
      "text/html": [
       "<div>\n",
       "<style scoped>\n",
       "    .dataframe tbody tr th:only-of-type {\n",
       "        vertical-align: middle;\n",
       "    }\n",
       "\n",
       "    .dataframe tbody tr th {\n",
       "        vertical-align: top;\n",
       "    }\n",
       "\n",
       "    .dataframe thead th {\n",
       "        text-align: right;\n",
       "    }\n",
       "</style>\n",
       "<table border=\"1\" class=\"dataframe\">\n",
       "  <thead>\n",
       "    <tr style=\"text-align: right;\">\n",
       "      <th></th>\n",
       "      <th>mean</th>\n",
       "      <th>count</th>\n",
       "    </tr>\n",
       "    <tr>\n",
       "      <th>Price</th>\n",
       "      <th></th>\n",
       "      <th></th>\n",
       "    </tr>\n",
       "  </thead>\n",
       "  <tbody>\n",
       "    <tr>\n",
       "      <th>1.75</th>\n",
       "      <td>5.00</td>\n",
       "      <td>1</td>\n",
       "    </tr>\n",
       "    <tr>\n",
       "      <th>3.04</th>\n",
       "      <td>5.00</td>\n",
       "      <td>1</td>\n",
       "    </tr>\n",
       "    <tr>\n",
       "      <th>2.50</th>\n",
       "      <td>4.80</td>\n",
       "      <td>1</td>\n",
       "    </tr>\n",
       "    <tr>\n",
       "      <th>15.99</th>\n",
       "      <td>4.70</td>\n",
       "      <td>1</td>\n",
       "    </tr>\n",
       "    <tr>\n",
       "      <th>19.40</th>\n",
       "      <td>4.70</td>\n",
       "      <td>1</td>\n",
       "    </tr>\n",
       "    <tr>\n",
       "      <th>3.90</th>\n",
       "      <td>4.70</td>\n",
       "      <td>1</td>\n",
       "    </tr>\n",
       "    <tr>\n",
       "      <th>2.59</th>\n",
       "      <td>4.70</td>\n",
       "      <td>1</td>\n",
       "    </tr>\n",
       "    <tr>\n",
       "      <th>10.00</th>\n",
       "      <td>4.65</td>\n",
       "      <td>2</td>\n",
       "    </tr>\n",
       "    <tr>\n",
       "      <th>79.99</th>\n",
       "      <td>4.60</td>\n",
       "      <td>1</td>\n",
       "    </tr>\n",
       "    <tr>\n",
       "      <th>14.00</th>\n",
       "      <td>4.60</td>\n",
       "      <td>1</td>\n",
       "    </tr>\n",
       "    <tr>\n",
       "      <th>18.99</th>\n",
       "      <td>4.60</td>\n",
       "      <td>1</td>\n",
       "    </tr>\n",
       "    <tr>\n",
       "      <th>4.29</th>\n",
       "      <td>4.60</td>\n",
       "      <td>1</td>\n",
       "    </tr>\n",
       "    <tr>\n",
       "      <th>3.88</th>\n",
       "      <td>4.60</td>\n",
       "      <td>1</td>\n",
       "    </tr>\n",
       "    <tr>\n",
       "      <th>2.95</th>\n",
       "      <td>4.50</td>\n",
       "      <td>1</td>\n",
       "    </tr>\n",
       "    <tr>\n",
       "      <th>5.49</th>\n",
       "      <td>4.50</td>\n",
       "      <td>2</td>\n",
       "    </tr>\n",
       "  </tbody>\n",
       "</table>\n",
       "</div>"
      ],
      "text/plain": [
       "       mean  count\n",
       "Price             \n",
       "1.75   5.00      1\n",
       "3.04   5.00      1\n",
       "2.50   4.80      1\n",
       "15.99  4.70      1\n",
       "19.40  4.70      1\n",
       "3.90   4.70      1\n",
       "2.59   4.70      1\n",
       "10.00  4.65      2\n",
       "79.99  4.60      1\n",
       "14.00  4.60      1\n",
       "18.99  4.60      1\n",
       "4.29   4.60      1\n",
       "3.88   4.60      1\n",
       "2.95   4.50      1\n",
       "5.49   4.50      2"
      ]
     },
     "execution_count": 21,
     "metadata": {},
     "output_type": "execute_result"
    }
   ],
   "source": [
    "paid = df[df['Type']==\"Paid\"].copy()\n",
    "paid.groupby('Price')['Rating'].agg(['mean','count']).sort_values('mean',ascending = False).head(15)"
   ]
  },
  {
   "cell_type": "markdown",
   "id": "5998405f",
   "metadata": {
    "papermill": {
     "duration": 0.009838,
     "end_time": "2025-09-25T08:48:49.589570",
     "exception": false,
     "start_time": "2025-09-25T08:48:49.579732",
     "status": "completed"
    },
    "tags": []
   },
   "source": [
    "**Q4. Distribution of ratings across Content Rating**"
   ]
  },
  {
   "cell_type": "code",
   "execution_count": 22,
   "id": "5de7e008",
   "metadata": {
    "execution": {
     "iopub.execute_input": "2025-09-25T08:48:49.610799Z",
     "iopub.status.busy": "2025-09-25T08:48:49.610472Z",
     "iopub.status.idle": "2025-09-25T08:48:49.843895Z",
     "shell.execute_reply": "2025-09-25T08:48:49.842845Z"
    },
    "papermill": {
     "duration": 0.245651,
     "end_time": "2025-09-25T08:48:49.845325",
     "exception": false,
     "start_time": "2025-09-25T08:48:49.599674",
     "status": "completed"
    },
    "tags": []
   },
   "outputs": [
    {
     "data": {
      "image/png": "[encoded data removed]",
      "text/plain": [
       "<Figure size 1000x500 with 1 Axes>"
      ]
     },
     "metadata": {},
     "output_type": "display_data"
    }
   ],
   "source": [
    "plt.figure(figsize = (10,5))\n",
    "sns.boxplot(x=\"Content Rating\",y=\"Rating\",data=df)\n",
    "plt.xticks(rotation = 45)\n",
    "plt.show()"
   ]
  },
  {
   "cell_type": "markdown",
   "id": "c150bbd6",
   "metadata": {
    "papermill": {
     "duration": 0.010976,
     "end_time": "2025-09-25T08:48:49.868285",
     "exception": false,
     "start_time": "2025-09-25T08:48:49.857309",
     "status": "completed"
    },
    "tags": []
   },
   "source": [
    "**Q5. Genres with most apps > 1M installs**"
   ]
  },
  {
   "cell_type": "code",
   "execution_count": 23,
   "id": "9f01b76c",
   "metadata": {
    "execution": {
     "iopub.execute_input": "2025-09-25T08:48:49.892543Z",
     "iopub.status.busy": "2025-09-25T08:48:49.892207Z",
     "iopub.status.idle": "2025-09-25T08:48:49.903797Z",
     "shell.execute_reply": "2025-09-25T08:48:49.902847Z"
    },
    "papermill": {
     "duration": 0.025197,
     "end_time": "2025-09-25T08:48:49.905273",
     "exception": false,
     "start_time": "2025-09-25T08:48:49.880076",
     "status": "completed"
    },
    "tags": []
   },
   "outputs": [
    {
     "data": {
      "text/plain": [
       "Genres\n",
       "Tools                      172\n",
       "Action                     128\n",
       "Photography                123\n",
       "Communication               99\n",
       "Productivity                91\n",
       "Entertainment               83\n",
       "Arcade                      81\n",
       "Sports                      79\n",
       "Shopping                    72\n",
       "Social                      67\n",
       "Personalization             66\n",
       "Casual                      57\n",
       "Health & Fitness            56\n",
       "Travel & Local              55\n",
       "Video Players & Editors     50\n",
       "Name: App, dtype: int64"
      ]
     },
     "execution_count": 23,
     "metadata": {},
     "output_type": "execute_result"
    }
   ],
   "source": [
    "df[df['Installs']>1_000_000].groupby(\"Genres\")['App'].count().sort_values(ascending = False).head(15)"
   ]
  },
  {
   "cell_type": "markdown",
   "id": "86e9c188",
   "metadata": {
    "papermill": {
     "duration": 0.010751,
     "end_time": "2025-09-25T08:48:49.927090",
     "exception": false,
     "start_time": "2025-09-25T08:48:49.916339",
     "status": "completed"
    },
    "tags": []
   },
   "source": [
    "**Q6. How frequently do apps get updated?**"
   ]
  },
  {
   "cell_type": "code",
   "execution_count": 24,
   "id": "bb9891d1",
   "metadata": {
    "execution": {
     "iopub.execute_input": "2025-09-25T08:48:49.950541Z",
     "iopub.status.busy": "2025-09-25T08:48:49.949766Z",
     "iopub.status.idle": "2025-09-25T08:48:49.979717Z",
     "shell.execute_reply": "2025-09-25T08:48:49.978876Z"
    },
    "papermill": {
     "duration": 0.043179,
     "end_time": "2025-09-25T08:48:49.981039",
     "exception": false,
     "start_time": "2025-09-25T08:48:49.937860",
     "status": "completed"
    },
    "tags": []
   },
   "outputs": [
    {
     "data": {
      "text/plain": [
       "nan"
      ]
     },
     "execution_count": 24,
     "metadata": {},
     "output_type": "execute_result"
    }
   ],
   "source": [
    "#If the dataset has multiple Last updated entries per App\n",
    "df_hist = df.sort_values(['App',\"Last Updated\"])\n",
    "df_hist['prev_update']=df_hist.groupby('App')['Last Updated'].shift(1)\n",
    "df_hist['days_between']=(df_hist['Last Updated']-df_hist['prev_update']).dt.days\n",
    "df_hist['days_between'].mean()"
   ]
  },
  {
   "cell_type": "markdown",
   "id": "5026fe34",
   "metadata": {
    "papermill": {
     "duration": 0.010541,
     "end_time": "2025-09-25T08:48:50.002866",
     "exception": false,
     "start_time": "2025-09-25T08:48:49.992325",
     "status": "completed"
    },
    "tags": []
   },
   "source": [
    "**Q7. Impact of app size on installs**"
   ]
  },
  {
   "cell_type": "code",
   "execution_count": 25,
   "id": "4c43a5cd",
   "metadata": {
    "execution": {
     "iopub.execute_input": "2025-09-25T08:48:50.025752Z",
     "iopub.status.busy": "2025-09-25T08:48:50.025410Z",
     "iopub.status.idle": "2025-09-25T08:48:50.766358Z",
     "shell.execute_reply": "2025-09-25T08:48:50.765514Z"
    },
    "papermill": {
     "duration": 0.754094,
     "end_time": "2025-09-25T08:48:50.767841",
     "exception": false,
     "start_time": "2025-09-25T08:48:50.013747",
     "status": "completed"
    },
    "tags": []
   },
   "outputs": [
    {
     "data": {
      "image/png": "[encoded data removed]",
      "text/plain": [
       "<Figure size 800x600 with 1 Axes>"
      ]
     },
     "metadata": {},
     "output_type": "display_data"
    }
   ],
   "source": [
    "plt.figure(figsize=(8,6))\n",
    "sub = df[df['Size_MB'].notnull()&(df['Installs']>0)]\n",
    "sns.regplot(x=\"Size_MB\",y='Installs',data = sub , scatter_kws={'alpha':0.3},line_kws={'color':'red'})\n",
    "plt.xlabel('Size_MB')\n",
    "plt.ylabel('Log(Installs+1)')\n",
    "plt.title(\"Size vs installs (log-scale)\")\n",
    "plt.show()"
   ]
  },
  {
   "cell_type": "markdown",
   "id": "4c1ad1ce",
   "metadata": {
    "papermill": {
     "duration": 0.011397,
     "end_time": "2025-09-25T08:48:50.791356",
     "exception": false,
     "start_time": "2025-09-25T08:48:50.779959",
     "status": "completed"
    },
    "tags": []
   },
   "source": [
    "**Q8. Apps with highest number of reviews and their ratings**"
   ]
  },
  {
   "cell_type": "code",
   "execution_count": 26,
   "id": "85556f22",
   "metadata": {
    "execution": {
     "iopub.execute_input": "2025-09-25T08:48:50.815811Z",
     "iopub.status.busy": "2025-09-25T08:48:50.815004Z",
     "iopub.status.idle": "2025-09-25T08:48:50.830720Z",
     "shell.execute_reply": "2025-09-25T08:48:50.829916Z"
    },
    "papermill": {
     "duration": 0.029229,
     "end_time": "2025-09-25T08:48:50.832074",
     "exception": false,
     "start_time": "2025-09-25T08:48:50.802845",
     "status": "completed"
    },
    "tags": []
   },
   "outputs": [
    {
     "data": {
      "text/html": [
       "<div>\n",
       "<style scoped>\n",
       "    .dataframe tbody tr th:only-of-type {\n",
       "        vertical-align: middle;\n",
       "    }\n",
       "\n",
       "    .dataframe tbody tr th {\n",
       "        vertical-align: top;\n",
       "    }\n",
       "\n",
       "    .dataframe thead th {\n",
       "        text-align: right;\n",
       "    }\n",
       "</style>\n",
       "<table border=\"1\" class=\"dataframe\">\n",
       "  <thead>\n",
       "    <tr style=\"text-align: right;\">\n",
       "      <th></th>\n",
       "      <th>App</th>\n",
       "      <th>Reviews</th>\n",
       "      <th>Installs</th>\n",
       "      <th>Rating</th>\n",
       "    </tr>\n",
       "  </thead>\n",
       "  <tbody>\n",
       "    <tr>\n",
       "      <th>2544</th>\n",
       "      <td>Facebook</td>\n",
       "      <td>78158306.0</td>\n",
       "      <td>1000000000</td>\n",
       "      <td>4.1</td>\n",
       "    </tr>\n",
       "    <tr>\n",
       "      <th>336</th>\n",
       "      <td>WhatsApp Messenger</td>\n",
       "      <td>69119316.0</td>\n",
       "      <td>1000000000</td>\n",
       "      <td>4.4</td>\n",
       "    </tr>\n",
       "    <tr>\n",
       "      <th>2545</th>\n",
       "      <td>Instagram</td>\n",
       "      <td>66577313.0</td>\n",
       "      <td>1000000000</td>\n",
       "      <td>4.5</td>\n",
       "    </tr>\n",
       "    <tr>\n",
       "      <th>335</th>\n",
       "      <td>Messenger – Text and Video Chat for Free</td>\n",
       "      <td>56642847.0</td>\n",
       "      <td>1000000000</td>\n",
       "      <td>4.0</td>\n",
       "    </tr>\n",
       "    <tr>\n",
       "      <th>1670</th>\n",
       "      <td>Clash of Clans</td>\n",
       "      <td>44891723.0</td>\n",
       "      <td>100000000</td>\n",
       "      <td>4.6</td>\n",
       "    </tr>\n",
       "    <tr>\n",
       "      <th>4005</th>\n",
       "      <td>Clean Master- Space Cleaner &amp; Antivirus</td>\n",
       "      <td>42916526.0</td>\n",
       "      <td>500000000</td>\n",
       "      <td>4.7</td>\n",
       "    </tr>\n",
       "    <tr>\n",
       "      <th>1654</th>\n",
       "      <td>Subway Surfers</td>\n",
       "      <td>27722264.0</td>\n",
       "      <td>1000000000</td>\n",
       "      <td>4.5</td>\n",
       "    </tr>\n",
       "    <tr>\n",
       "      <th>3665</th>\n",
       "      <td>YouTube</td>\n",
       "      <td>25655305.0</td>\n",
       "      <td>1000000000</td>\n",
       "      <td>4.3</td>\n",
       "    </tr>\n",
       "    <tr>\n",
       "      <th>7536</th>\n",
       "      <td>Security Master - Antivirus, VPN, AppLock, Boo...</td>\n",
       "      <td>24900999.0</td>\n",
       "      <td>500000000</td>\n",
       "      <td>4.7</td>\n",
       "    </tr>\n",
       "    <tr>\n",
       "      <th>1660</th>\n",
       "      <td>Clash Royale</td>\n",
       "      <td>23133508.0</td>\n",
       "      <td>100000000</td>\n",
       "      <td>4.6</td>\n",
       "    </tr>\n",
       "  </tbody>\n",
       "</table>\n",
       "</div>"
      ],
      "text/plain": [
       "                                                    App     Reviews  \\\n",
       "2544                                           Facebook  78158306.0   \n",
       "336                                  WhatsApp Messenger  69119316.0   \n",
       "2545                                          Instagram  66577313.0   \n",
       "335            Messenger – Text and Video Chat for Free  56642847.0   \n",
       "1670                                     Clash of Clans  44891723.0   \n",
       "4005            Clean Master- Space Cleaner & Antivirus  42916526.0   \n",
       "1654                                     Subway Surfers  27722264.0   \n",
       "3665                                            YouTube  25655305.0   \n",
       "7536  Security Master - Antivirus, VPN, AppLock, Boo...  24900999.0   \n",
       "1660                                       Clash Royale  23133508.0   \n",
       "\n",
       "        Installs  Rating  \n",
       "2544  1000000000     4.1  \n",
       "336   1000000000     4.4  \n",
       "2545  1000000000     4.5  \n",
       "335   1000000000     4.0  \n",
       "1670   100000000     4.6  \n",
       "4005   500000000     4.7  \n",
       "1654  1000000000     4.5  \n",
       "3665  1000000000     4.3  \n",
       "7536   500000000     4.7  \n",
       "1660   100000000     4.6  "
      ]
     },
     "execution_count": 26,
     "metadata": {},
     "output_type": "execute_result"
    }
   ],
   "source": [
    "df.sort_values('Reviews',ascending=False).head(10)[['App','Reviews','Installs','Rating']]"
   ]
  },
  {
   "cell_type": "markdown",
   "id": "43e64961",
   "metadata": {
    "papermill": {
     "duration": 0.011887,
     "end_time": "2025-09-25T08:48:50.856406",
     "exception": false,
     "start_time": "2025-09-25T08:48:50.844519",
     "status": "completed"
    },
    "tags": []
   },
   "source": [
    "**Q9. Content rating distribution free vs paid**"
   ]
  },
  {
   "cell_type": "code",
   "execution_count": 27,
   "id": "d85b28ee",
   "metadata": {
    "execution": {
     "iopub.execute_input": "2025-09-25T08:48:50.881516Z",
     "iopub.status.busy": "2025-09-25T08:48:50.881195Z",
     "iopub.status.idle": "2025-09-25T08:48:50.911212Z",
     "shell.execute_reply": "2025-09-25T08:48:50.910193Z"
    },
    "papermill": {
     "duration": 0.044324,
     "end_time": "2025-09-25T08:48:50.912673",
     "exception": false,
     "start_time": "2025-09-25T08:48:50.868349",
     "status": "completed"
    },
    "tags": []
   },
   "outputs": [
    {
     "data": {
      "text/html": [
       "<div>\n",
       "<style scoped>\n",
       "    .dataframe tbody tr th:only-of-type {\n",
       "        vertical-align: middle;\n",
       "    }\n",
       "\n",
       "    .dataframe tbody tr th {\n",
       "        vertical-align: top;\n",
       "    }\n",
       "\n",
       "    .dataframe thead th {\n",
       "        text-align: right;\n",
       "    }\n",
       "</style>\n",
       "<table border=\"1\" class=\"dataframe\">\n",
       "  <thead>\n",
       "    <tr style=\"text-align: right;\">\n",
       "      <th>Type</th>\n",
       "      <th>Free</th>\n",
       "      <th>Paid</th>\n",
       "    </tr>\n",
       "    <tr>\n",
       "      <th>Content Rating</th>\n",
       "      <th></th>\n",
       "      <th></th>\n",
       "    </tr>\n",
       "  </thead>\n",
       "  <tbody>\n",
       "    <tr>\n",
       "      <th>Adults only 18+</th>\n",
       "      <td>0.000337</td>\n",
       "      <td>0.000000</td>\n",
       "    </tr>\n",
       "    <tr>\n",
       "      <th>Everyone</th>\n",
       "      <td>0.814199</td>\n",
       "      <td>0.866402</td>\n",
       "    </tr>\n",
       "    <tr>\n",
       "      <th>Everyone 10+</th>\n",
       "      <td>0.032577</td>\n",
       "      <td>0.041005</td>\n",
       "    </tr>\n",
       "    <tr>\n",
       "      <th>Mature 17+</th>\n",
       "      <td>0.042125</td>\n",
       "      <td>0.023810</td>\n",
       "    </tr>\n",
       "    <tr>\n",
       "      <th>Teen</th>\n",
       "      <td>0.110537</td>\n",
       "      <td>0.068783</td>\n",
       "    </tr>\n",
       "    <tr>\n",
       "      <th>Unrated</th>\n",
       "      <td>0.000225</td>\n",
       "      <td>0.000000</td>\n",
       "    </tr>\n",
       "  </tbody>\n",
       "</table>\n",
       "</div>"
      ],
      "text/plain": [
       "Type                 Free      Paid\n",
       "Content Rating                     \n",
       "Adults only 18+  0.000337  0.000000\n",
       "Everyone         0.814199  0.866402\n",
       "Everyone 10+     0.032577  0.041005\n",
       "Mature 17+       0.042125  0.023810\n",
       "Teen             0.110537  0.068783\n",
       "Unrated          0.000225  0.000000"
      ]
     },
     "execution_count": 27,
     "metadata": {},
     "output_type": "execute_result"
    }
   ],
   "source": [
    "pd.crosstab(df['Content Rating'],df['Type'],normalize='columns')"
   ]
  },
  {
   "cell_type": "markdown",
   "id": "7f9ca001",
   "metadata": {
    "papermill": {
     "duration": 0.012148,
     "end_time": "2025-09-25T08:48:50.937196",
     "exception": false,
     "start_time": "2025-09-25T08:48:50.925048",
     "status": "completed"
    },
    "tags": []
   },
   "source": [
    "**Q10. Top 5 categories with the most installs**"
   ]
  },
  {
   "cell_type": "code",
   "execution_count": 28,
   "id": "3a132930",
   "metadata": {
    "execution": {
     "iopub.execute_input": "2025-09-25T08:48:50.963138Z",
     "iopub.status.busy": "2025-09-25T08:48:50.962848Z",
     "iopub.status.idle": "2025-09-25T08:48:50.971272Z",
     "shell.execute_reply": "2025-09-25T08:48:50.970628Z"
    },
    "papermill": {
     "duration": 0.023008,
     "end_time": "2025-09-25T08:48:50.972630",
     "exception": false,
     "start_time": "2025-09-25T08:48:50.949622",
     "status": "completed"
    },
    "tags": []
   },
   "outputs": [
    {
     "data": {
      "text/plain": [
       "Category\n",
       "GAME             13878924415\n",
       "COMMUNICATION    11038276251\n",
       "TOOLS             8001771915\n",
       "PRODUCTIVITY      5793091369\n",
       "SOCIAL            5487867902\n",
       "Name: Installs, dtype: int64"
      ]
     },
     "execution_count": 28,
     "metadata": {},
     "output_type": "execute_result"
    }
   ],
   "source": [
    "df.groupby('Category')['Installs'].sum().sort_values(ascending = False).head()"
   ]
  },
  {
   "cell_type": "markdown",
   "id": "6b5eb3a1",
   "metadata": {
    "papermill": {
     "duration": 0.011971,
     "end_time": "2025-09-25T08:48:50.997234",
     "exception": false,
     "start_time": "2025-09-25T08:48:50.985263",
     "status": "completed"
    },
    "tags": []
   },
   "source": [
    "# **Advance_level_question**"
   ]
  },
  {
   "cell_type": "markdown",
   "id": "8abaf64a",
   "metadata": {
    "papermill": {
     "duration": 0.012019,
     "end_time": "2025-09-25T08:48:51.021511",
     "exception": false,
     "start_time": "2025-09-25T08:48:51.009492",
     "status": "completed"
    },
    "tags": []
   },
   "source": [
    "**Q1. Top 10 apps by rating with reviews/installs**"
   ]
  },
  {
   "cell_type": "code",
   "execution_count": 29,
   "id": "2b26cf2b",
   "metadata": {
    "execution": {
     "iopub.execute_input": "2025-09-25T08:48:51.047376Z",
     "iopub.status.busy": "2025-09-25T08:48:51.047074Z",
     "iopub.status.idle": "2025-09-25T08:48:51.073727Z",
     "shell.execute_reply": "2025-09-25T08:48:51.072491Z"
    },
    "papermill": {
     "duration": 0.042761,
     "end_time": "2025-09-25T08:48:51.076623",
     "exception": false,
     "start_time": "2025-09-25T08:48:51.033862",
     "status": "completed"
    },
    "tags": []
   },
   "outputs": [
    {
     "name": "stderr",
     "output_type": "stream",
     "text": [
      "/usr/local/lib/python3.11/dist-packages/pandas/io/formats/format.py:1458: RuntimeWarning: invalid value encountered in greater\n",
      "  has_large_values = (abs_vals > 1e6).any()\n",
      "/usr/local/lib/python3.11/dist-packages/pandas/io/formats/format.py:1459: RuntimeWarning: invalid value encountered in less\n",
      "  has_small_values = ((abs_vals < 10 ** (-self.digits)) & (abs_vals > 0)).any()\n",
      "/usr/local/lib/python3.11/dist-packages/pandas/io/formats/format.py:1459: RuntimeWarning: invalid value encountered in greater\n",
      "  has_small_values = ((abs_vals < 10 ** (-self.digits)) & (abs_vals > 0)).any()\n"
     ]
    },
    {
     "data": {
      "text/html": [
       "<div>\n",
       "<style scoped>\n",
       "    .dataframe tbody tr th:only-of-type {\n",
       "        vertical-align: middle;\n",
       "    }\n",
       "\n",
       "    .dataframe tbody tr th {\n",
       "        vertical-align: top;\n",
       "    }\n",
       "\n",
       "    .dataframe thead th {\n",
       "        text-align: right;\n",
       "    }\n",
       "</style>\n",
       "<table border=\"1\" class=\"dataframe\">\n",
       "  <thead>\n",
       "    <tr style=\"text-align: right;\">\n",
       "      <th></th>\n",
       "      <th>App</th>\n",
       "      <th>Rating</th>\n",
       "      <th>Reviews</th>\n",
       "      <th>Installs</th>\n",
       "    </tr>\n",
       "  </thead>\n",
       "  <tbody>\n",
       "    <tr>\n",
       "      <th>0</th>\n",
       "      <td>Life Made WI-Fi Touchscreen Photo Frame</td>\n",
       "      <td>19.0</td>\n",
       "      <td>NaN</td>\n",
       "      <td>0</td>\n",
       "    </tr>\n",
       "    <tr>\n",
       "      <th>1</th>\n",
       "      <td>Ríos de Fe</td>\n",
       "      <td>5.0</td>\n",
       "      <td>141.0</td>\n",
       "      <td>1000</td>\n",
       "    </tr>\n",
       "    <tr>\n",
       "      <th>2</th>\n",
       "      <td>FD Calculator (EMI, SIP, RD &amp; Loan Eligilibility)</td>\n",
       "      <td>5.0</td>\n",
       "      <td>104.0</td>\n",
       "      <td>1000</td>\n",
       "    </tr>\n",
       "    <tr>\n",
       "      <th>3</th>\n",
       "      <td>Oración CX</td>\n",
       "      <td>5.0</td>\n",
       "      <td>103.0</td>\n",
       "      <td>5000</td>\n",
       "    </tr>\n",
       "    <tr>\n",
       "      <th>4</th>\n",
       "      <td>Barisal University App-BU Face</td>\n",
       "      <td>5.0</td>\n",
       "      <td>100.0</td>\n",
       "      <td>1000</td>\n",
       "    </tr>\n",
       "    <tr>\n",
       "      <th>5</th>\n",
       "      <td>Master E.K</td>\n",
       "      <td>5.0</td>\n",
       "      <td>90.0</td>\n",
       "      <td>1000</td>\n",
       "    </tr>\n",
       "    <tr>\n",
       "      <th>6</th>\n",
       "      <td>CL REPL</td>\n",
       "      <td>5.0</td>\n",
       "      <td>47.0</td>\n",
       "      <td>1000</td>\n",
       "    </tr>\n",
       "    <tr>\n",
       "      <th>7</th>\n",
       "      <td>AJ Cam</td>\n",
       "      <td>5.0</td>\n",
       "      <td>44.0</td>\n",
       "      <td>100</td>\n",
       "    </tr>\n",
       "    <tr>\n",
       "      <th>8</th>\n",
       "      <td>AI Today : Artificial Intelligence News &amp; AI 101</td>\n",
       "      <td>5.0</td>\n",
       "      <td>43.0</td>\n",
       "      <td>100</td>\n",
       "    </tr>\n",
       "    <tr>\n",
       "      <th>9</th>\n",
       "      <td>CS &amp; IT Interview Questions</td>\n",
       "      <td>5.0</td>\n",
       "      <td>43.0</td>\n",
       "      <td>1000</td>\n",
       "    </tr>\n",
       "  </tbody>\n",
       "</table>\n",
       "</div>"
      ],
      "text/plain": [
       "                                                 App  Rating  Reviews  \\\n",
       "0            Life Made WI-Fi Touchscreen Photo Frame    19.0      NaN   \n",
       "1                                         Ríos de Fe     5.0    141.0   \n",
       "2  FD Calculator (EMI, SIP, RD & Loan Eligilibility)     5.0    104.0   \n",
       "3                                         Oración CX     5.0    103.0   \n",
       "4                     Barisal University App-BU Face     5.0    100.0   \n",
       "5                                         Master E.K     5.0     90.0   \n",
       "6                                            CL REPL     5.0     47.0   \n",
       "7                                             AJ Cam     5.0     44.0   \n",
       "8   AI Today : Artificial Intelligence News & AI 101     5.0     43.0   \n",
       "9                        CS & IT Interview Questions     5.0     43.0   \n",
       "\n",
       "   Installs  \n",
       "0         0  \n",
       "1      1000  \n",
       "2      1000  \n",
       "3      5000  \n",
       "4      1000  \n",
       "5      1000  \n",
       "6      1000  \n",
       "7       100  \n",
       "8       100  \n",
       "9      1000  "
      ]
     },
     "execution_count": 29,
     "metadata": {},
     "output_type": "execute_result"
    }
   ],
   "source": [
    "top_rated=df[df['Rating'].notnull()].sort_values(['Rating','Reviews'],ascending = [False,False]).reset_index().head(50)\n",
    "top_rated[['App','Rating','Reviews','Installs']].head(10)"
   ]
  },
  {
   "cell_type": "markdown",
   "id": "67ad28f9",
   "metadata": {
    "papermill": {
     "duration": 0.012496,
     "end_time": "2025-09-25T08:48:51.107608",
     "exception": false,
     "start_time": "2025-09-25T08:48:51.095112",
     "status": "completed"
    },
    "tags": []
   },
   "source": [
    "**Q2. Trend of app updates over time (seasonality)**"
   ]
  },
  {
   "cell_type": "code",
   "execution_count": 30,
   "id": "f36cdf83",
   "metadata": {
    "execution": {
     "iopub.execute_input": "2025-09-25T08:48:51.136398Z",
     "iopub.status.busy": "2025-09-25T08:48:51.135747Z",
     "iopub.status.idle": "2025-09-25T08:48:51.525161Z",
     "shell.execute_reply": "2025-09-25T08:48:51.524294Z"
    },
    "papermill": {
     "duration": 0.40583,
     "end_time": "2025-09-25T08:48:51.526776",
     "exception": false,
     "start_time": "2025-09-25T08:48:51.120946",
     "status": "completed"
    },
    "tags": []
   },
   "outputs": [
    {
     "data": {
      "image/png": "[encoded data removed]",
      "text/plain": [
       "<Figure size 1200x400 with 1 Axes>"
      ]
     },
     "metadata": {},
     "output_type": "display_data"
    }
   ],
   "source": [
    "df['upd_month']=df['Last Updated'].dt.to_period('M')\n",
    "monthly = df.groupby('upd_month')['App'].count()\n",
    "monthly.plot(figsize =(12,4))\n",
    "plt.title('Count of apps last updated by month(snapshot)')\n",
    "plt.show()"
   ]
  },
  {
   "cell_type": "markdown",
   "id": "620f0aa5",
   "metadata": {
    "papermill": {
     "duration": 0.012919,
     "end_time": "2025-09-25T08:48:51.553281",
     "exception": false,
     "start_time": "2025-09-25T08:48:51.540362",
     "status": "completed"
    },
    "tags": []
   },
   "source": [
    "**Q3. Binned analysis: rating change with number of installs**"
   ]
  },
  {
   "cell_type": "code",
   "execution_count": 31,
   "id": "649836e5",
   "metadata": {
    "execution": {
     "iopub.execute_input": "2025-09-25T08:48:51.581117Z",
     "iopub.status.busy": "2025-09-25T08:48:51.580824Z",
     "iopub.status.idle": "2025-09-25T08:48:51.605830Z",
     "shell.execute_reply": "2025-09-25T08:48:51.604806Z"
    },
    "papermill": {
     "duration": 0.040687,
     "end_time": "2025-09-25T08:48:51.607223",
     "exception": false,
     "start_time": "2025-09-25T08:48:51.566536",
     "status": "completed"
    },
    "tags": []
   },
   "outputs": [
    {
     "name": "stderr",
     "output_type": "stream",
     "text": [
      "/tmp/ipykernel_13/988792623.py:7: FutureWarning: The default of observed=False is deprecated and will be changed to True in a future version of pandas. Pass observed=False to retain current behavior or observed=True to adopt the future default and silence this warning.\n",
      "  df.groupby('inst_bin2')['Rating'].mean().reset_index()\n"
     ]
    },
    {
     "data": {
      "text/html": [
       "<div>\n",
       "<style scoped>\n",
       "    .dataframe tbody tr th:only-of-type {\n",
       "        vertical-align: middle;\n",
       "    }\n",
       "\n",
       "    .dataframe tbody tr th {\n",
       "        vertical-align: top;\n",
       "    }\n",
       "\n",
       "    .dataframe thead th {\n",
       "        text-align: right;\n",
       "    }\n",
       "</style>\n",
       "<table border=\"1\" class=\"dataframe\">\n",
       "  <thead>\n",
       "    <tr style=\"text-align: right;\">\n",
       "      <th></th>\n",
       "      <th>inst_bin2</th>\n",
       "      <th>Rating</th>\n",
       "    </tr>\n",
       "  </thead>\n",
       "  <tbody>\n",
       "    <tr>\n",
       "      <th>0</th>\n",
       "      <td>(0, 1000]</td>\n",
       "      <td>4.198129</td>\n",
       "    </tr>\n",
       "    <tr>\n",
       "      <th>1</th>\n",
       "      <td>(1000, 10000]</td>\n",
       "      <td>4.031303</td>\n",
       "    </tr>\n",
       "    <tr>\n",
       "      <th>2</th>\n",
       "      <td>(10000, 100000]</td>\n",
       "      <td>4.095422</td>\n",
       "    </tr>\n",
       "    <tr>\n",
       "      <th>3</th>\n",
       "      <td>(100000, 1000000]</td>\n",
       "      <td>4.203804</td>\n",
       "    </tr>\n",
       "    <tr>\n",
       "      <th>4</th>\n",
       "      <td>(1000000, 10000000]</td>\n",
       "      <td>4.271049</td>\n",
       "    </tr>\n",
       "    <tr>\n",
       "      <th>5</th>\n",
       "      <td>(10000000, 1000000000]</td>\n",
       "      <td>4.353456</td>\n",
       "    </tr>\n",
       "  </tbody>\n",
       "</table>\n",
       "</div>"
      ],
      "text/plain": [
       "                inst_bin2    Rating\n",
       "0               (0, 1000]  4.198129\n",
       "1           (1000, 10000]  4.031303\n",
       "2         (10000, 100000]  4.095422\n",
       "3       (100000, 1000000]  4.203804\n",
       "4     (1000000, 10000000]  4.271049\n",
       "5  (10000000, 1000000000]  4.353456"
      ]
     },
     "execution_count": 31,
     "metadata": {},
     "output_type": "execute_result"
    }
   ],
   "source": [
    "# create bins on Installs (log scale)\n",
    "df['inst_bin'] = pd.qcut(df['Installs'].rank(method='first'), q=6, labels=False)\n",
    "df.groupby('inst_bin')['Rating'].mean().reset_index()\n",
    "# or custom bins on raw installs\n",
    "bins = [0, 1000, 10000, 100000, 1_000_000, 10_000_000, 1_000_000_000]\n",
    "df['inst_bin2'] = pd.cut(df['Installs'], bins=bins)\n",
    "df.groupby('inst_bin2')['Rating'].mean().reset_index()\n"
   ]
  },
  {
   "cell_type": "markdown",
   "id": "729b67d1",
   "metadata": {
    "papermill": {
     "duration": 0.013289,
     "end_time": "2025-09-25T08:48:51.634686",
     "exception": false,
     "start_time": "2025-09-25T08:48:51.621397",
     "status": "completed"
    },
    "tags": []
   },
   "source": [
    "**Q4. Relationship between genre and ratings**"
   ]
  },
  {
   "cell_type": "code",
   "execution_count": 32,
   "id": "b639557b",
   "metadata": {
    "execution": {
     "iopub.execute_input": "2025-09-25T08:48:51.662428Z",
     "iopub.status.busy": "2025-09-25T08:48:51.662159Z",
     "iopub.status.idle": "2025-09-25T08:48:51.676033Z",
     "shell.execute_reply": "2025-09-25T08:48:51.675311Z"
    },
    "papermill": {
     "duration": 0.029187,
     "end_time": "2025-09-25T08:48:51.677244",
     "exception": false,
     "start_time": "2025-09-25T08:48:51.648057",
     "status": "completed"
    },
    "tags": []
   },
   "outputs": [
    {
     "data": {
      "text/html": [
       "<div>\n",
       "<style scoped>\n",
       "    .dataframe tbody tr th:only-of-type {\n",
       "        vertical-align: middle;\n",
       "    }\n",
       "\n",
       "    .dataframe tbody tr th {\n",
       "        vertical-align: top;\n",
       "    }\n",
       "\n",
       "    .dataframe thead th {\n",
       "        text-align: right;\n",
       "    }\n",
       "</style>\n",
       "<table border=\"1\" class=\"dataframe\">\n",
       "  <thead>\n",
       "    <tr style=\"text-align: right;\">\n",
       "      <th></th>\n",
       "      <th>mean</th>\n",
       "      <th>median</th>\n",
       "      <th>count</th>\n",
       "    </tr>\n",
       "    <tr>\n",
       "      <th>Genres</th>\n",
       "      <th></th>\n",
       "      <th></th>\n",
       "      <th></th>\n",
       "    </tr>\n",
       "  </thead>\n",
       "  <tbody>\n",
       "    <tr>\n",
       "      <th>Events</th>\n",
       "      <td>4.435556</td>\n",
       "      <td>4.5</td>\n",
       "      <td>45</td>\n",
       "    </tr>\n",
       "    <tr>\n",
       "      <th>Puzzle</th>\n",
       "      <td>4.370000</td>\n",
       "      <td>4.4</td>\n",
       "      <td>100</td>\n",
       "    </tr>\n",
       "    <tr>\n",
       "      <th>Art &amp; Design</th>\n",
       "      <td>4.358182</td>\n",
       "      <td>4.4</td>\n",
       "      <td>55</td>\n",
       "    </tr>\n",
       "    <tr>\n",
       "      <th>Books &amp; Reference</th>\n",
       "      <td>4.344970</td>\n",
       "      <td>4.5</td>\n",
       "      <td>169</td>\n",
       "    </tr>\n",
       "    <tr>\n",
       "      <th>Word</th>\n",
       "      <td>4.340909</td>\n",
       "      <td>4.3</td>\n",
       "      <td>22</td>\n",
       "    </tr>\n",
       "    <tr>\n",
       "      <th>Parenting</th>\n",
       "      <td>4.340000</td>\n",
       "      <td>4.5</td>\n",
       "      <td>40</td>\n",
       "    </tr>\n",
       "    <tr>\n",
       "      <th>Personalization</th>\n",
       "      <td>4.332215</td>\n",
       "      <td>4.4</td>\n",
       "      <td>298</td>\n",
       "    </tr>\n",
       "    <tr>\n",
       "      <th>Education;Education</th>\n",
       "      <td>4.294444</td>\n",
       "      <td>4.4</td>\n",
       "      <td>36</td>\n",
       "    </tr>\n",
       "    <tr>\n",
       "      <th>Education</th>\n",
       "      <td>4.291375</td>\n",
       "      <td>4.4</td>\n",
       "      <td>429</td>\n",
       "    </tr>\n",
       "    <tr>\n",
       "      <th>Casino</th>\n",
       "      <td>4.286486</td>\n",
       "      <td>4.4</td>\n",
       "      <td>37</td>\n",
       "    </tr>\n",
       "    <tr>\n",
       "      <th>Beauty</th>\n",
       "      <td>4.278571</td>\n",
       "      <td>4.3</td>\n",
       "      <td>42</td>\n",
       "    </tr>\n",
       "    <tr>\n",
       "      <th>Board</th>\n",
       "      <td>4.273684</td>\n",
       "      <td>4.3</td>\n",
       "      <td>38</td>\n",
       "    </tr>\n",
       "    <tr>\n",
       "      <th>Arcade</th>\n",
       "      <td>4.271930</td>\n",
       "      <td>4.3</td>\n",
       "      <td>171</td>\n",
       "    </tr>\n",
       "    <tr>\n",
       "      <th>Role Playing</th>\n",
       "      <td>4.271569</td>\n",
       "      <td>4.3</td>\n",
       "      <td>102</td>\n",
       "    </tr>\n",
       "    <tr>\n",
       "      <th>Social</th>\n",
       "      <td>4.247291</td>\n",
       "      <td>4.3</td>\n",
       "      <td>203</td>\n",
       "    </tr>\n",
       "    <tr>\n",
       "      <th>Educational;Education</th>\n",
       "      <td>4.245714</td>\n",
       "      <td>4.3</td>\n",
       "      <td>35</td>\n",
       "    </tr>\n",
       "    <tr>\n",
       "      <th>Action</th>\n",
       "      <td>4.244863</td>\n",
       "      <td>4.3</td>\n",
       "      <td>292</td>\n",
       "    </tr>\n",
       "    <tr>\n",
       "      <th>Weather</th>\n",
       "      <td>4.243056</td>\n",
       "      <td>4.3</td>\n",
       "      <td>72</td>\n",
       "    </tr>\n",
       "    <tr>\n",
       "      <th>Health &amp; Fitness</th>\n",
       "      <td>4.243033</td>\n",
       "      <td>4.5</td>\n",
       "      <td>244</td>\n",
       "    </tr>\n",
       "    <tr>\n",
       "      <th>Shopping</th>\n",
       "      <td>4.230000</td>\n",
       "      <td>4.3</td>\n",
       "      <td>180</td>\n",
       "    </tr>\n",
       "  </tbody>\n",
       "</table>\n",
       "</div>"
      ],
      "text/plain": [
       "                           mean  median  count\n",
       "Genres                                        \n",
       "Events                 4.435556     4.5     45\n",
       "Puzzle                 4.370000     4.4    100\n",
       "Art & Design           4.358182     4.4     55\n",
       "Books & Reference      4.344970     4.5    169\n",
       "Word                   4.340909     4.3     22\n",
       "Parenting              4.340000     4.5     40\n",
       "Personalization        4.332215     4.4    298\n",
       "Education;Education    4.294444     4.4     36\n",
       "Education              4.291375     4.4    429\n",
       "Casino                 4.286486     4.4     37\n",
       "Beauty                 4.278571     4.3     42\n",
       "Board                  4.273684     4.3     38\n",
       "Arcade                 4.271930     4.3    171\n",
       "Role Playing           4.271569     4.3    102\n",
       "Social                 4.247291     4.3    203\n",
       "Educational;Education  4.245714     4.3     35\n",
       "Action                 4.244863     4.3    292\n",
       "Weather                4.243056     4.3     72\n",
       "Health & Fitness       4.243033     4.5    244\n",
       "Shopping               4.230000     4.3    180"
      ]
     },
     "execution_count": 32,
     "metadata": {},
     "output_type": "execute_result"
    }
   ],
   "source": [
    "g = df.groupby('Genres')['Rating'].agg(['mean','median','count']).sort_values('mean',ascending = False)\n",
    "g[g['count']>20].head(20)"
   ]
  }
 ],
 "metadata": {
  "kaggle": {
   "accelerator": "none",
   "dataSources": [
    {
     "datasetId": 49864,
     "sourceId": 274957,
     "sourceType": "datasetVersion"
    }
   ],
   "dockerImageVersionId": 31089,
   "isGpuEnabled": false,
   "isInternetEnabled": true,
   "language": "python",
   "sourceType": "notebook"
  },
  "kernelspec": {
   "display_name": "Python 3",
   "language": "python",
   "name": "python3"
  },
  "language_info": {
   "codemirror_mode": {
    "name": "ipython",
    "version": 3
   },
   "file_extension": ".py",
   "mimetype": "text/x-python",
   "name": "python",
   "nbconvert_exporter": "python",
   "pygments_lexer": "ipython3",
   "version": "3.11.13"
  },
  "papermill": {
   "default_parameters": {},
   "duration": 14.511345,
   "end_time": "2025-09-25T08:48:52.310365",
   "environment_variables": {},
   "exception": null,
   "input_path": "__notebook__.ipynb",
   "output_path": "__notebook__.ipynb",
   "parameters": {},
   "start_time": "2025-09-25T08:48:37.799020",
   "version": "2.6.0"
  }
 },
 "nbformat": 4,
 "nbformat_minor": 5
}
